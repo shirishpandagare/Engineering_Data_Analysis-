{
 "cells": [
  {
   "cell_type": "markdown",
   "metadata": {},
   "source": [
    "# Performing Classification analysis on SECOM Dataset to detect fault in the yeild. "
   ]
  },
  {
   "cell_type": "code",
   "execution_count": 11,
   "metadata": {},
   "outputs": [],
   "source": [
    "import numpy as np \n",
    "import pandas as pd\n",
    "import matplotlib.pyplot as plt\n",
    "import warnings\n",
    "warnings.filterwarnings('ignore')"
   ]
  },
  {
   "cell_type": "markdown",
   "metadata": {},
   "source": [
    "## Loading Train Data"
   ]
  },
  {
   "cell_type": "code",
   "execution_count": 12,
   "metadata": {},
   "outputs": [],
   "source": [
    "class load():\n",
    "    def data(file_path):\n",
    "        import numpy as np \n",
    "        import pandas as pd\n",
    "        data = pd.DataFrame(np.loadtxt(file_path))\n",
    "        data.columns = [\"X\" + str(i) for i in range(590)]\n",
    "        return data\n",
    "\n",
    "    def label(file_path):\n",
    "        import numpy as np \n",
    "        import pandas as pd\n",
    "        label = pd.read_csv(file_path,sep= ' ', header=None)\n",
    "        col = label.columns.values\n",
    "        label = label.drop(col[1], axis=1)\n",
    "        return label"
   ]
  },
  {
   "cell_type": "markdown",
   "metadata": {},
   "source": [
    "## Loading Test Data"
   ]
  },
  {
   "cell_type": "code",
   "execution_count": null,
   "metadata": {},
   "outputs": [],
   "source": []
  },
  {
   "cell_type": "markdown",
   "metadata": {},
   "source": [
    "## Data Preprocessing "
   ]
  },
  {
   "cell_type": "code",
   "execution_count": 13,
   "metadata": {},
   "outputs": [],
   "source": [
    "class preprocessing():\n",
    "    \n",
    "    ## Function is to check how many zeros and NaN values are there in each attribute/ Columns.\n",
    "    def zero(data):\n",
    "        import pandas as pd\n",
    "        import numpy as np \n",
    "        data_old = np.array(data)\n",
    "        data = data_old.T\n",
    "\n",
    "        nan = []\n",
    "        for i in range(len(data)):\n",
    "            l = np.count_nonzero(np.nan_to_num(data[i]))\n",
    "            count = len(data[i]) - l\n",
    "            nan.append(count)  \n",
    "        return nan \n",
    "    \n",
    "    ### This function drop the columns having same constant value. \n",
    "    def drop(df):\n",
    "        data = df.replace(np.nan, 0)\n",
    "        shape = data.shape\n",
    "        col = data.columns.values\n",
    "        for i in range(len(col)):\n",
    "            l = data[col[i]]\n",
    "            mean = np.mean(l)\n",
    "            count = 0\n",
    "            for n in range(len(l)):\n",
    "                if l[n] == mean:\n",
    "                    count = count+1\n",
    "            if count == len(l):\n",
    "                data = data.drop(col[i], axis = 1)\n",
    "\n",
    "        return data\n",
    "    \n",
    "    \n",
    "    # This function first drop all the columns having missing values more than the desired threshold.\n",
    "    #Once the columns are droped, the missing values are imputed by taking the mean of the values available\n",
    "    #in the column.The output of the function is the pandas DataFrame with the imputed values and dropped columns. \n",
    "    # Following inputs are required for the function. \n",
    "    \n",
    "    def impute(data, missing_percentage=0.5, strategy = 'mean'):\n",
    "        import numpy as np\n",
    "        import pandas as pd\n",
    "\n",
    "        df = data\n",
    "        s = df.shape\n",
    "        col = df.columns.values\n",
    "        threshold = (missing_percentage)\n",
    "        for x in range(len(col)):\n",
    "            l = df[col[x]]\n",
    "            count = np.count_nonzero(l)\n",
    "            if count <= (s[0]*(1- threshold)):\n",
    "                df = df.drop([col[x]], axis = 1)\n",
    "\n",
    "        data =  {}   \n",
    "        shape = df.shape\n",
    "        col1 = df.columns.values\n",
    "        for i in range(shape[1]):\n",
    "            l = np.nan_to_num(df[col1[i]])\n",
    "            p = np.array(np.nonzero(l))[0]\n",
    "            t =[]\n",
    "            for n in range(len(p)):\n",
    "                t.append(df[col1[i]][p[n]])\n",
    "            mean = np.mean(t)\n",
    "            median = np.median(t)\n",
    "            for x in range(len(l)):\n",
    "                if l[x] == 0:\n",
    "                    if strategy == \"mean\":\n",
    "                        l[x] = mean  \n",
    "                    elif strategy == \"median\": \n",
    "                        l[x] = median\n",
    "            d = {col1[i]: l}\n",
    "            data.update(d)\n",
    "        imputed_data = pd.DataFrame(data)\n",
    "        data = preprocessing.drop(imputed_data)\n",
    "        return data"
   ]
  },
  {
   "cell_type": "markdown",
   "metadata": {},
   "source": [
    "## Feature Selection "
   ]
  },
  {
   "cell_type": "code",
   "execution_count": 59,
   "metadata": {},
   "outputs": [],
   "source": [
    "class feature_selection():\n",
    "    \n",
    "    ## Feature selection method using VarianceThreshold method, which eliminates the features with low variance. \n",
    "    def varianceThreshold(X,threshold=0):\n",
    "        p = threshold\n",
    "        col = X.columns.values\n",
    "        from sklearn.feature_selection import VarianceThreshold\n",
    "        sel = VarianceThreshold(threshold=(p * (1 - p)))\n",
    "        sel.fit_transform(X)\n",
    "        features = col[(sel.get_support(indices=True))]\n",
    "        X_df = X.filter(features)\n",
    "        return X_df\n",
    "    \n",
    "    ## Feature selection by three different models, \n",
    "    ## 1) Support Vector Classifier\n",
    "    ## 2) Logistic Classifier\n",
    "    ## 3) Descision Tree Classifier\n",
    "    \n",
    "    def model_selection(data, label, Model= \"SVC\"):\n",
    "        from sklearn.svm import LinearSVC\n",
    "        from sklearn.linear_model import LogisticRegression\n",
    "        from sklearn.feature_selection import SelectFromModel\n",
    "        from sklearn.ensemble import ExtraTreesClassifier\n",
    "        import pandas as pd\n",
    "        \n",
    "        model = Model\n",
    "    \n",
    "        X, y = data, label\n",
    "        col = X.columns.values\n",
    "\n",
    "        lsvc = LinearSVC(C=0.01, penalty=\"l1\", dual=False).fit(X, y)\n",
    "        Logistic_clf = LogisticRegression(random_state=0, solver='lbfgs',multi_class='multinomial').fit(X, y)\n",
    "        tree = ExtraTreesClassifier(n_estimators=100).fit(X,y)\n",
    "        \n",
    "        if model == \"SVC\":\n",
    "            model = SelectFromModel(lsvc, prefit=True)\n",
    "        elif model == \"Logistic\":\n",
    "            model = SelectFromModel(Logistic_clf, prefit=True)\n",
    "        elif model == \"tree\":\n",
    "            model = SelectFromModel(tree, prefit=True)\n",
    "            \n",
    "        X_new = model.transform(X)\n",
    "        X_new_transpose = X_new.T\n",
    "\n",
    "        features = []\n",
    "        for i in range(len(X_new_transpose)):\n",
    "            for n in range(len(col)):\n",
    "                if list(X_new_transpose[i]) == list(X[col[n]]):\n",
    "                    features.append(col[n])\n",
    "        df_selected = pd.DataFrame(X_new, columns=features)\n",
    "        \n",
    "        return df_selected\n",
    "        \n",
    "    def PCA(X):\n",
    "        shape = X.shape\n",
    "        com = shape[1]\n",
    "        import numpy as np\n",
    "        from sklearn.decomposition import PCA\n",
    "        pca = PCA(n_components=com)\n",
    "        pca.fit(X)\n",
    "        var_explained = (pca.explained_variance_ratio_)  \n",
    "        X_new = pca.fit_transform(X)\n",
    "        return (X_new)\n",
    "        "
   ]
  },
  {
   "cell_type": "markdown",
   "metadata": {},
   "source": [
    "## Oversampling Methods "
   ]
  },
  {
   "cell_type": "code",
   "execution_count": 15,
   "metadata": {},
   "outputs": [],
   "source": [
    "def oversampling(data,label):\n",
    "    from collections import Counter\n",
    "    from sklearn.datasets import make_classification\n",
    "    from imblearn.over_sampling import SMOTE # doctest: +NORMALIZE_WHITESPACE\n",
    "    X, y = make_classification(n_classes=2, class_sep=2,\n",
    "    weights=[0.1, 0.9], n_informative=3, n_redundant=1, flip_y=0,\n",
    "    n_features=20, n_clusters_per_class=1, n_samples=1000, random_state=10)\n",
    "    print('Original dataset shape %s' % Counter(y))\n",
    "    \n",
    "    col = data.columns.values\n",
    "\n",
    "    sm = SMOTE(random_state=42)\n",
    "    X_df, y_df = sm.fit_resample(data, label)\n",
    "    print('Resampled dataset shape %s' % Counter(y_df))\n",
    "    \n",
    "    X_df = pd.DataFrame(X_df , columns=col)\n",
    "    y_df = pd.DataFrame(y_df)\n",
    "    \n",
    "    return X_df, y_df"
   ]
  },
  {
   "cell_type": "markdown",
   "metadata": {},
   "source": [
    "## Classifier "
   ]
  },
  {
   "cell_type": "code",
   "execution_count": 61,
   "metadata": {},
   "outputs": [],
   "source": [
    "def classifier(X,Y, test_size, random_state = 2, n_estimators= 100 ):\n",
    "    \n",
    "    size = test_size \n",
    "    seed = random_state\n",
    "    estimators = n_estimators\n",
    "    \n",
    "    \n",
    "    from sklearn.model_selection import train_test_split\n",
    "    X_train, X_test, Y_train, Y_test = train_test_split(X, Y, test_size = size, random_state = seed)\n",
    "\n",
    "    from sklearn.ensemble import RandomForestClassifier\n",
    "    from sklearn.datasets import make_classification\n",
    "    from sklearn.metrics import confusion_matrix\n",
    "    from sklearn import metrics\n",
    "\n",
    "    clf = RandomForestClassifier(n_estimators=estimators, max_depth=None, random_state=seed, bootstrap=True)\n",
    "    clf.fit(X_train, Y_train)\n",
    "    pred = clf.predict(X_test)\n",
    "    score = clf.score(X_test, Y_test)\n",
    "    true_data = Y_test\n",
    "    pred_data = pred\n",
    "    \n",
    "    return clf , pred, true_data, score\n",
    "\n",
    "\n",
    "def confusion_matrix(true_data, pred_data):\n",
    "    \n",
    "    true_data = np.array(true_data)\n",
    "    pred_data = np.array(pred_data)\n",
    "    true_pos = 0\n",
    "    true_neg = 0\n",
    "    count_neg = 0\n",
    "    count_pos = 0\n",
    "    for i in range(len(true_data)):\n",
    "        if true_data[i] == -1 and  pred_data[i] == -1: \n",
    "            count_neg += 1\n",
    "        elif true_data[i] == 1 and  pred_data[i] == 1:\n",
    "            count_pos += 1\n",
    "    for i in range(len(true_data)):\n",
    "        if true_data[i] == 1:\n",
    "            true_pos +=1\n",
    "    true_neg = len(true_data) - true_pos \n",
    "    cnf = np.array([[count_neg, (true_neg-count_neg)],[(true_pos-count_pos), count_pos]])\n",
    "    \n",
    "    return cnf\n",
    "\n",
    "def plot_confusion_matrix(cm,normalize=False, title='Confusion matrix', cmap=plt.cm.Blues):\n",
    "    \n",
    "    import itertools\n",
    "#     from sklearn.model_selection import train_test_split\n",
    "#     from sklearn.metrics import confusion_matrix\n",
    "    \"\"\"\n",
    "    This function prints and plots the confusion matrix.\n",
    "    Normalization can be applied by setting `normalize=True`.\n",
    "    \n",
    "    \"\"\"\n",
    "    \n",
    "    class_names = [\"Pass\", \"Fail\"]\n",
    "    classes = class_names\n",
    "    if normalize:\n",
    "        cm = cm.astype('float') / cm.sum(axis=1)[:, np.newaxis]\n",
    "        print(\"Normalized confusion matrix\")\n",
    "    else:\n",
    "        print('Confusion matrix, without normalization')\n",
    "\n",
    "    print(cm)\n",
    "\n",
    "    plt.imshow(cm, interpolation='nearest', cmap=cmap)\n",
    "    plt.title(title)\n",
    "    plt.colorbar()\n",
    "    tick_marks = np.arange(len(classes))\n",
    "    plt.xticks(tick_marks, classes, rotation=45)\n",
    "    plt.yticks(tick_marks, classes)\n",
    "\n",
    "    fmt = '.2f' if normalize else 'd'\n",
    "    thresh = cm.max() / 2.\n",
    "    for i, j in itertools.product(range(cm.shape[0]), range(cm.shape[1])):\n",
    "        plt.text(j, i, format(cm[i, j], fmt),\n",
    "                 horizontalalignment=\"center\",\n",
    "                 color=\"white\" if cm[i, j] > thresh else \"black\")\n",
    "\n",
    "    plt.ylabel('True label')\n",
    "    plt.xlabel('Predicted label')\n",
    "    plt.tight_layout()"
   ]
  },
  {
   "cell_type": "markdown",
   "metadata": {},
   "source": [
    "## Classification performance and accuracy "
   ]
  },
  {
   "cell_type": "code",
   "execution_count": 62,
   "metadata": {},
   "outputs": [
    {
     "name": "stdout",
     "output_type": "stream",
     "text": [
      "Original dataset shape Counter({1: 900, 0: 100})\n",
      "Resampled dataset shape Counter({-1: 1463, 1: 1463})\n",
      "0.979296066252588\n",
      "Normalized confusion matrix\n",
      "[[0.97 0.03]\n",
      " [0.01 0.99]]\n"
     ]
    },
    {
     "data": {
      "image/png": "[encoded data removed]",
      "text/plain": [
       "<Figure size 432x288 with 2 Axes>"
      ]
     },
     "metadata": {
      "needs_background": "light"
     },
     "output_type": "display_data"
    }
   ],
   "source": [
    "### Feature selection by SVC and classified using Random Forest \n",
    "\n",
    "\n",
    "file_path =  \"secom.data.txt\"\n",
    "df = load.data(file_path)\n",
    "df = preprocessing.drop(df)\n",
    "df = preprocessing.impute(df, 0.5, \"mean\")\n",
    "label_path = 'secom_labels.data.txt'\n",
    "label = load.label(label_path)\n",
    "featured_data = feature_selection.model_selection(df, label=label, Model=\"SVC\")\n",
    "X_over, Y_over  = oversampling(featured_data, label=label)\n",
    "clf, pred, true_data, score = classifier(X_over, Y_over, 0.33)\n",
    "print(score)\n",
    "cnf = confusion_matrix(true_data, pred)\n",
    "plt.figure()\n",
    "plot_confusion_matrix(cnf, normalize=True,title='Normalized confusion matrix')"
   ]
  },
  {
   "cell_type": "code",
   "execution_count": 63,
   "metadata": {},
   "outputs": [
    {
     "name": "stdout",
     "output_type": "stream",
     "text": [
      "Original dataset shape Counter({1: 900, 0: 100})\n",
      "Resampled dataset shape Counter({-1: 1463, 1: 1463})\n",
      "0.984472049689441\n",
      "Normalized confusion matrix\n",
      "[[0.98 0.02]\n",
      " [0.01 0.99]]\n"
     ]
    },
    {
     "data": {
      "image/png": "[encoded data removed]",
      "text/plain": [
       "<Figure size 432x288 with 2 Axes>"
      ]
     },
     "metadata": {
      "needs_background": "light"
     },
     "output_type": "display_data"
    }
   ],
   "source": [
    "### Feature selection by Logistic Classifier and classified using Random Forest \n",
    "\n",
    "file_path =  \"secom.data.txt\"\n",
    "df = load.data(file_path)\n",
    "df = preprocessing.drop(df)\n",
    "df = preprocessing.impute(df, 0.5, \"mean\")\n",
    "label_path = 'secom_labels.data.txt'\n",
    "label = load.label(label_path)\n",
    "featured_data = feature_selection.model_selection(df, label=label, Model=\"Logistic\")\n",
    "X_over, Y_over  = oversampling(featured_data, label=label)\n",
    "clf, pred, true_data, score = classifier(X_over, Y_over, 0.33)\n",
    "print(score)\n",
    "cnf = confusion_matrix(true_data, pred)\n",
    "plt.figure()\n",
    "plot_confusion_matrix(cnf, normalize=True,title='Normalized confusion matrix')"
   ]
  },
  {
   "cell_type": "code",
   "execution_count": 64,
   "metadata": {},
   "outputs": [
    {
     "name": "stdout",
     "output_type": "stream",
     "text": [
      "Original dataset shape Counter({1: 900, 0: 100})\n",
      "Resampled dataset shape Counter({-1: 1463, 1: 1463})\n",
      "0.9834368530020704\n",
      "Normalized confusion matrix\n",
      "[[0.98 0.02]\n",
      " [0.01 0.99]]\n"
     ]
    },
    {
     "data": {
      "image/png": "[encoded data removed]",
      "text/plain": [
       "<Figure size 432x288 with 2 Axes>"
      ]
     },
     "metadata": {
      "needs_background": "light"
     },
     "output_type": "display_data"
    }
   ],
   "source": [
    "### Feature selection by Decision Tree and classified using Random Forest \n",
    "\n",
    "file_path =  \"secom.data.txt\"\n",
    "df = load.data(file_path)\n",
    "df = preprocessing.drop(df)\n",
    "df = preprocessing.impute(df, 0.5, \"mean\")\n",
    "label_path = 'secom_labels.data.txt'\n",
    "label = load.label(label_path)\n",
    "featured_data = feature_selection.model_selection(df, label=label, Model=\"tree\")\n",
    "X_over, Y_over  = oversampling(featured_data, label=label)\n",
    "clf, pred, true_data, score = classifier(X_over, Y_over, 0.33)\n",
    "print(score)\n",
    "cnf = confusion_matrix(true_data, pred)\n",
    "plt.figure()\n",
    "plot_confusion_matrix(cnf, normalize=True,title='Normalized confusion matrix')"
   ]
  },
  {
   "cell_type": "code",
   "execution_count": null,
   "metadata": {},
   "outputs": [],
   "source": []
  },
  {
   "cell_type": "code",
   "execution_count": null,
   "metadata": {},
   "outputs": [],
   "source": []
  }
 ],
 "metadata": {
  "kernelspec": {
   "display_name": "Python 3",
   "language": "python",
   "name": "python3"
  },
  "language_info": {
   "codemirror_mode": {
    "name": "ipython",
    "version": 3
   },
   "file_extension": ".py",
   "mimetype": "text/x-python",
   "name": "python",
   "nbconvert_exporter": "python",
   "pygments_lexer": "ipython3",
   "version": "3.6.6"
  }
 },
 "nbformat": 4,
 "nbformat_minor": 2
}
